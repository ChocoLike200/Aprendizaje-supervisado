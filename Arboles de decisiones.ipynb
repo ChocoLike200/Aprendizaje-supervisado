{
 "cells": [
  {
   "cell_type": "code",
   "execution_count": 3,
   "id": "48f969de",
   "metadata": {},
   "outputs": [
    {
     "name": "stdout",
     "output_type": "stream",
     "text": [
      "Accuracy: 86.34%\n"
     ]
    }
   ],
   "source": [
    "#Importar las bibliotecas necesarias.\n",
    "import pandas as pd\n",
    "from sklearn.tree import DecisionTreeClassifier\n",
    "from sklearn.model_selection import train_test_split\n",
    "\n",
    "#Cargar el conjunto de datos\n",
    "df = pd.read_csv(\"covid.csv\")\n",
    "\n",
    "#Eliminar filas con valores faltantes\n",
    "df.dropna(inplace=True)\n",
    "\n",
    "#Seleccionar las columnas de caracteristicas y la columna de etiquetas\n",
    "x = df.iloc[:, :-1]\n",
    "y = df.iloc[:, -1]\n",
    "\n",
    "#Seleccionar variables categóricas en variables numéricas\n",
    "X = pd.get_dummies(x)\n",
    "\n",
    "#Dividir el conjunto de datos en conjuntos de entrenamiento y prueba\n",
    "X_train, X_test, y_train, y_test = train_test_split(X, y, test_size=0.2, random_state=39)\n",
    "\n",
    "#Crear un modelo de árbol de decisión y entrenarlo con el conjunto de datos de entrenamiento\n",
    "clf = DecisionTreeClassifier()\n",
    "clf.fit(X_train, y_train)\n",
    "\n",
    "#Evaluar el modelo con el conjunto de datos de prueba\n",
    "score = clf.score(X_test, y_test)\n",
    "print(\"Accuracy: %.2f%%\" % (score* 100.0))\n",
    "\n",
    "\n",
    "\n",
    "\n",
    "\n",
    "\n"
   ]
  },
  {
   "cell_type": "code",
   "execution_count": null,
   "id": "8ef83f99",
   "metadata": {},
   "outputs": [],
   "source": []
  },
  {
   "cell_type": "code",
   "execution_count": null,
   "id": "24e19896",
   "metadata": {},
   "outputs": [],
   "source": []
  },
  {
   "cell_type": "code",
   "execution_count": null,
   "id": "e79c5973",
   "metadata": {},
   "outputs": [],
   "source": []
  },
  {
   "cell_type": "code",
   "execution_count": null,
   "id": "c273e86f",
   "metadata": {},
   "outputs": [],
   "source": []
  },
  {
   "cell_type": "code",
   "execution_count": null,
   "id": "2d670615",
   "metadata": {},
   "outputs": [],
   "source": []
  }
 ],
 "metadata": {
  "kernelspec": {
   "display_name": "Python 3 (ipykernel)",
   "language": "python",
   "name": "python3"
  },
  "language_info": {
   "codemirror_mode": {
    "name": "ipython",
    "version": 3
   },
   "file_extension": ".py",
   "mimetype": "text/x-python",
   "name": "python",
   "nbconvert_exporter": "python",
   "pygments_lexer": "ipython3",
   "version": "3.9.13"
  }
 },
 "nbformat": 4,
 "nbformat_minor": 5
}
